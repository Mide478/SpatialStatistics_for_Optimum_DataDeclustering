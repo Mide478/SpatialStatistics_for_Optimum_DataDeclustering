{
 "cells": [
  {
   "cell_type": "markdown",
   "metadata": {},
   "source": [
    "\n",
    "<p align=\"center\">\n",
    "    <img src=\"https://github.com/GeostatsGuy/GeostatsPy/blob/master/TCG_color_logo.png?raw=true\" width=\"220\" height=\"240\" />\n",
    "\n",
    "</p>\n",
    "\n",
    "\n",
    "\n",
    "\n",
    "#### Midé Mabadeje$^{1}$ [GitHub](https://github.com/Mide478) | [GoogleScholar](https://scholar.google.com/citations?user=9nksjzQAAAAJ&hl=en&oi=ao)  | [LinkedIn](https://www.linkedin.com/in/ademidemabadeje) & Michael Pyrcz$^{1,2}$ (Professor) [Twitter](https://twitter.com/geostatsguy) | [GitHub](https://github.com/GeostatsGuy) | [Website](http://michaelpyrcz.com) | [GoogleScholar](https://scholar.google.com/citations?user=QVZ20eQAAAAJ&hl=en&oi=ao) | [Book](https://www.amazon.com/Geostatistical-Reservoir-Modeling-Michael-Pyrcz/dp/0199731446) | [YouTube](https://www.youtube.com/channel/UCLqEr-xV-ceHdXXXrTId5ig)  | [LinkedIn](https://www.linkedin.com/in/michael-pyrcz-61a648a1), University of Texas at Austin\n",
    "\n",
    " 1. Hildebrand Department of Petroleum and Geosystems Engineering, Cockrell School of Engineering\n",
    " \n",
    "\n",
    " 2. Department of Earth & Planetary Sciences, Jackson School of Geosciences\n",
    "\n",
    "\n",
    "# Spatial Data Analytics to Support Declustering Approaches\n",
    "\n",
    "\n",
    "## Executive Summary\n",
    "All sparsely sampled, spatial datasets are biased. Cell-based declustering (CBD) is the most applied approach for debiasing such datasets. Current practice for choice of cell size in CBD is irrational and subjective because it is overly conservative. We propose a novel method, Spatial Statistics-based Assignment of Declustering Cell Size (SSADC), which objectively selects the cell size using spatial point statistics; Nearest Neighbors and Ripley’s K to determine the scales of data clustering between data points.\n",
    "\n",
    "SSADC provides an alternative input for optimal cell size selection using spatial statistics in CBD with the aim to automate and improve objectivity for the mitigation of sampling bias. Cell size determined via SSADC was found to be a better estimate of the true mean regardless of the degree of bias in the data. Therefore, the proposed method is recommended for automated optimal spatial debiasing with sparsely sampled settings.\n",
    "\n",
    "\n",
    "## Objective \n",
    "Develop a new automated quantitative method that objectively, and robustly identifies the optimal cell size for cell based declustering in sparsely sampled spatial datasets. For full paper see [article](https://doi.org/10.1016/B978-0-323-90185-7.00009-1).\n",
    "\n",
    "\n",
    "This notebook's workflow is broken up to the primary steps of:\n",
    "\n",
    "* Make univariate 2D truth models using sequential Gaussian simulation.\n",
    "    \n",
    "* Biased sample creation using a combination of regular and random sampling methods with rejection sampling to infuse varying degrees of bias into the datasets.\n",
    "        \n",
    "* Carry out cell based declustering using current approach to determine optimal cell size.\n",
    "\n",
    "* Determine the optimal cell sizes using SSADC, then estimating the declustered statistics.\n",
    "    \n",
    "* Analyze results obtained to show gap in research.\n",
    "\n",
    "\n",
    "## Getting Started\n",
    "\n",
    "Here's the steps to get setup in Python with the \"package name\" :\n",
    "\n",
    "1. Install Anaconda 3 on your machine (https://www.anaconda.com/download/). \n",
    "2. From Anaconda Navigator (within Anaconda3 group), go to the environment tab, click on base (root) green arrow and open a terminal. \n",
    "3. In the terminal type: pip install \"package name\". \n",
    "4. Open Jupyter and in the top block get started by copy and pasting the code block below from this Jupyter Notebook to start using the \"package name\" functionality. \n",
    "\n",
    "After installing these packages let's import them as libraries for our workflow."
   ]
  },
  {
   "cell_type": "markdown",
   "metadata": {},
   "source": [
    "### Import Libraries"
   ]
  },
  {
   "cell_type": "code",
   "execution_count": 1,
   "metadata": {
    "ExecuteTime": {
     "end_time": "2021-06-16T08:30:58.732828Z",
     "start_time": "2021-06-16T08:30:54.970029Z"
    }
   },
   "outputs": [],
   "source": [
    "# Import libraries\n",
    "import numpy as np                        \n",
    "import pandas as pd\n",
    "import random\n",
    "import json\n",
    "\n",
    "%matplotlib inline\n",
    "import matplotlib.pyplot as plt\n",
    "import seaborn as sns\n",
    "import geostatspy.geostats as geostats    \n",
    "import geostatspy.GSLIB as GSLIB          \n",
    "from kneed import KneeLocator\n",
    "from sklearn.neighbors import NearestNeighbors"
   ]
  },
  {
   "cell_type": "markdown",
   "metadata": {},
   "source": [
    "Next, we need to set the working directory  "
   ]
  },
  {
   "cell_type": "markdown",
   "metadata": {},
   "source": [
    "### Set Working Directory "
   ]
  },
  {
   "cell_type": "code",
   "execution_count": 2,
   "metadata": {},
   "outputs": [
    {
     "data": {
      "text/plain": "'/Users/ademidemabadeje/Documents/UT/Research/PyCharm/SSADC/Warm Up To be Transferred/Current Scripts/SSADC Multiple Realization Example'"
     },
     "execution_count": 2,
     "metadata": {},
     "output_type": "execute_result"
    }
   ],
   "source": [
    "%pwd # This gives the current working directory"
   ]
  },
  {
   "cell_type": "markdown",
   "metadata": {},
   "source": [
    "### Declare Functions \n",
    "\n",
    "\n",
    "Functions used in the entirety of this notebook are defined in this section, starting with the sample generating function in the truth models."
   ]
  },
  {
   "cell_type": "code",
   "execution_count": 3,
   "metadata": {
    "ExecuteTime": {
     "end_time": "2021-06-16T08:30:58.775299Z",
     "start_time": "2021-06-16T08:30:58.749699Z"
    }
   },
   "outputs": [],
   "source": [
    "def regular_sample(array,xmin,xmax,ymin,ymax,spacing,minsx,maxsx,minsy,maxsy,name='Value'):\n",
    "    x = []; y = []; v = []\n",
    "    nx = array.shape[1]; ny = array.shape[0]\n",
    "    xsiz = (xmax-xmin)/nx; ysiz = (ymax-ymin)/ny\n",
    "    xmn = xmin + 0.5*xsiz; ymn = ymin + 0.5*ysiz\n",
    "    xx, yy = np.meshgrid(np.arange(xmin, xmax, spacing), np.arange(ymax, ymin, -1 * spacing))\n",
    "    xx = xx + spacing*0.5; yy = yy - spacing*0.5\n",
    "    for ix,iy in np.ndindex(xx.shape):\n",
    "        iix = geostats.getindex(nx,xmn,xsiz,xx[iy,ix])\n",
    "        iiy = geostats.getindex(ny,ymn,ysiz,yy[iy,ix])\n",
    "        if yy[iy,ix] >= minsy and yy[iy,ix] <= maxsy: \n",
    "            if xx[iy,ix] >= minsx and xx[iy,ix] >= minsx: \n",
    "                x.append(xx[iy, ix])\n",
    "                y.append(yy[iy, ix])\n",
    "                v.append(array[ny - iiy - 1, iix])\n",
    "    df = pd.DataFrame(np.c_[x, y, v], columns=[\"X\", \"Y\", name])\n",
    "    return df\n",
    "\n",
    "def random_sample(array,xmin,xmax,ymin,ymax,minsx,maxsx,minsy,maxsy,name='Value',nsamp=10):\n",
    "    x = []; y = []; v = []\n",
    "    ny, nx = array.shape   \n",
    "    xx, yy = np.meshgrid(\n",
    "        np.arange(xmin, xmax,(xmax-xmin)/float(nx)), np.arange(ymax - 1, ymin - 1, -1 * (ymax-ymin)/float(ny))\n",
    "    )\n",
    "    mask = np.zeros([ny,nx])\n",
    "    for iy in range(0,ny):\n",
    "        for ix in range(0,nx):\n",
    "            if xx[iy,ix] >= minsx and xx[iy,ix] <= maxsx:\n",
    "                if yy[iy,ix] >= minsy and yy[iy,ix] <= maxsy:\n",
    "                    mask[iy,ix] = 1.0\n",
    "    \n",
    "    if nsamp*1.2 > np.sum(mask):\n",
    "        print('ERROR - too few locations available for number of samples requested!') \n",
    "        return pd.DataFrame()\n",
    "    isamp = 0\n",
    "    while isamp < nsamp:\n",
    "        sample_index = np.random.choice(range(nx * ny), 1)\n",
    "        iy = int(sample_index[0] / ny)\n",
    "        ix = sample_index[0] - iy * nx\n",
    "        if mask[iy,ix] == 1:    \n",
    "            if xx[iy,ix] >= xmin and xx[iy,ix] <= xmax:\n",
    "                if yy[iy,ix] >= ymin and yy[iy,ix] <= ymax:        \n",
    "                    x.append(xx[iy, ix])\n",
    "                    y.append(yy[iy, ix])\n",
    "                    v.append(array[iy, ix])\n",
    "                    mask[iy,ix] = 0.0\n",
    "                    isamp = isamp + 1\n",
    "    df = pd.DataFrame(np.c_[x, y, v], columns=[\"X\", \"Y\", name])\n",
    "    return df\n",
    "\n",
    "def rejection_sample(df,vcol,frac,wt_min,wt_max):\n",
    "    \n",
    "    \"\"\"Function to preferentially remove high/low samples from a DataFrame to impose sampling bias\n",
    "        df - DataFrame with the sample data\n",
    "        vcol - feature of interest\n",
    "        frac - fraction of dataset to remove with the rejection sampler\n",
    "        wt_min - weight for the minimum value - linear interpolation used to assign weights from min to max value\n",
    "        wt_max - weight for the maximum value\"\"\"\n",
    "    \n",
    "    value = [np.min(df[vcol].values),np.max(df[vcol].values)]\n",
    "    wt = [wt_min,wt_max]\n",
    "    df_copy = df.copy(deep = True)\n",
    "    df[vcol] = df[vcol]*df[vcol] # This was squared to increase sensitivity to bias\n",
    "    df_copy['weights'] = np.interp(df[vcol],value,wt)\n",
    "    df_sample = df_copy.sample(frac = frac, replace = False, weights = 'weights')\n",
    "    return df_sample"
   ]
  },
  {
   "cell_type": "markdown",
   "metadata": {},
   "source": [
    "Declaration of utility functions that create variation in parameters for the truth model and sampling"
   ]
  },
  {
   "cell_type": "code",
   "execution_count": 4,
   "metadata": {
    "ExecuteTime": {
     "end_time": "2021-06-16T08:30:58.787254Z",
     "start_time": "2021-06-16T08:30:58.778003Z"
    }
   },
   "outputs": [],
   "source": [
    "def generate_random_seeds(num_realizations, lower_bound, upper_bound):\n",
    "    random_seeds = []            \n",
    "    random.seed(seed)              # random number seed is set to ensure reproducibility of same realization seeds, which is different for every iteration in the realization\n",
    "    for i in range(num_realizations):\n",
    "        random_value = random.randint(lower_bound, upper_bound)\n",
    "        random_seeds.append(random_value)\n",
    "    return random_seeds\n",
    "    \n",
    "def generate_random_ints(num_realizations, lower_bound, upper_bound):\n",
    "\n",
    "    \"\"\"This function is used to generate randomized integers for any parameter that needs to be varied\n",
    "    in the truth model for each realization\"\"\"\n",
    "\n",
    "    random_ints = []\n",
    "    for i in range(num_realizations):\n",
    "        random.seed(random_seeds[i])              \n",
    "        random_value = random.randint(lower_bound, upper_bound)\n",
    "        random_ints.append(random_value)\n",
    "    return random_ints\n",
    "    \n",
    "def generate_random_floats(num_realizations, lower_bound, upper_bound):\n",
    "\n",
    "    \"\"\"This function is used to generate randomized floats for any parameter changing in the truth model\n",
    "    for each realization\"\"\"\n",
    "\n",
    "    random_floats = []\n",
    "    for i in range(num_realizations):\n",
    "        random.seed(random_seeds[i])               \n",
    "        random_value = random.uniform(lower_bound, upper_bound)\n",
    "        random_floats.append(random_value)\n",
    "    return random_floats\n",
    "\n",
    "def generate_hmajs_hmins(num_realizations, hmaj_lower, hmaj_upper, hmin_lower, hmin_upper):\n",
    "        \n",
    "    \"\"\" This is a custom function that generates ranges used for the varioagram modelling, hmaj and hmin. \n",
    "    Currently, the data set is conditioned to diff=500; the difference between hmaj and hmin is 500,\n",
    "    this ascertains a small range in vario and and fulfills the stationarity assumption\"\"\"\n",
    "\n",
    "    diff = 500 # comment out if using a range of hmaj and min\n",
    "    hmins = []\n",
    "    hmajs = []\n",
    "    i = 0;\n",
    "    while len(hmins) < num_realizations:\n",
    "        random.seed(random_seeds[i])\n",
    "        hmin = random.randint(hmin_lower, hmin_upper)\n",
    "        hmaj = random.randint(hmaj_lower, hmaj_upper)\n",
    "        while (hmaj - hmin) != diff: \n",
    "        # while (hmaj - hmin) < 450 or (hmaj - hmin) > 600: # uncomment if you need to use a range of (hmaj - hmin) due \n",
    "        # to computational limitations arising from a very high number of realization but comment out prior while statement\n",
    "            # print(\"finding good hmin and hmaj\")\n",
    "            hmin = random.randint(hmin_lower, hmin_upper)\n",
    "            hmaj = random.randint(hmaj_lower, hmaj_upper)\n",
    "        # print(f\"Found! hmin:{hmin} and hmaj:{hmaj}\")\n",
    "        hmins.append(hmin)\n",
    "        hmajs.append(hmaj)\n",
    "        i = i + 1\n",
    "    return hmajs, hmins"
   ]
  },
  {
   "cell_type": "markdown",
   "metadata": {},
   "source": [
    "Next, let's modify the declustering function from geostats package to suit the proposed SSADC method."
   ]
  },
  {
   "cell_type": "code",
   "execution_count": 5,
   "metadata": {
    "ExecuteTime": {
     "end_time": "2021-06-16T11:10:23.298807Z",
     "start_time": "2021-06-16T11:10:23.275051Z"
    }
   },
   "outputs": [],
   "source": [
    "# Modified declustering fn from geostatspy\n",
    "def declus(df, xcol, ycol, vcol, iminmax, noff, ncell, cmin, cmax):\n",
    "    \n",
    "    \"\"\"GSLIB's DECLUS program (Deutsch and Journel, 1998) converted from the\n",
    "    original Fortran to Python by Michael Pyrcz, the University of Texas at\n",
    "    Austin (Jan, 2019).\n",
    "    Note this was simplified to 2D only.\n",
    "    :param df: pandas DataFrame with the spatial data\n",
    "    :param xcol: name of the x coordinate column\n",
    "    :param ycol: name of the y coordinate column\n",
    "    :param vcol: name of the property column\n",
    "    :param iminmax: 1 / True: for use cell size with max decluster mean\n",
    "                    0 / False: for declustered mean minimizing cell size\n",
    "    :param noff: number of offsets\n",
    "    :param ncell: number of cell sizes\n",
    "    :param cmin: min cell size\n",
    "    :param cmax: max cell size\n",
    "    :return: TODO\n",
    "    \"\"\"\n",
    "    # Load data and set up arrays\n",
    "    nd = len(df)\n",
    "    x = df[xcol].values\n",
    "    y = df[ycol].values\n",
    "    v = df[vcol].values\n",
    "    wt = np.zeros(nd)\n",
    "    wtopt = np.ones(nd)\n",
    "    index = np.zeros(nd, np.int32)\n",
    "    xcs_mat = np.zeros(ncell + 2)  # we use 1,...,n for this array\n",
    "    vrcr_mat = np.zeros(ncell + 2)  # we use 1,...,n for this array\n",
    "    anisy = 1.0  # hard code the cells to 2D isotropic\n",
    "    roff = float(noff)\n",
    "\n",
    "    # Calculate extents\n",
    "    xmin = np.min(x)\n",
    "    xmax = np.max(x)\n",
    "    ymin = np.min(y)\n",
    "    ymax = np.max(y)\n",
    "\n",
    "    # Calculate summary statistics\n",
    "    vmean = np.mean(v)\n",
    "    vstdev = np.std(v)\n",
    "    vmin = np.min(v)\n",
    "    vmax = np.max(v)\n",
    "    xcs_mat[0] = 0.0\n",
    "    vrcr_mat[0] = vmean\n",
    "    vrop = vmean  # include the naive case\n",
    "\n",
    "    print(f\"There are {nd} data with:\")\n",
    "    print(f\"   mean of      {vmean} \")\n",
    "    print(f\"   min and max  {vmin} and {vmax}\")\n",
    "    print(f\"   standard dev {vstdev} \")\n",
    "\n",
    "    # Define a \"lower\" origin to use for the cell sizes\n",
    "    xo1 = xmin - 0.01\n",
    "    yo1 = ymin - 0.01\n",
    "\n",
    "    # Define the increment for the cell size\n",
    "    xinc = (cmax - cmin) / ncell\n",
    "    yinc = xinc\n",
    "\n",
    "    # Loop over \"ncell+1\" cell sizes in the grid network\n",
    "    ncellx = int((xmax - (xo1 - cmin)) / cmin) + 1\n",
    "    ncelly = int((ymax - (yo1 - cmin * anisy)) / cmin) + 1\n",
    "    ncellt = ncellx * ncelly\n",
    "    cellwt = np.zeros(ncellt)\n",
    "    xcs = cmin - xinc\n",
    "    ycs = (cmin * anisy) - yinc\n",
    "\n",
    "    # Main loop over cell sizes\n",
    "    # 0 index is the 0.0 cell, note n + 1 in Fortran\n",
    "    for lp in range(1, ncell + 2):\n",
    "        xcs = xcs + xinc\n",
    "        ycs = ycs + yinc\n",
    "\n",
    "        # Initialize the weights to zero\n",
    "        wt.fill(0.0)\n",
    "\n",
    "        # Determine the maximum number of grid cells in the network\n",
    "        ncellx = int((xmax - (xo1 - xcs)) / xcs) + 1\n",
    "        ncelly = int((ymax - (yo1 - ycs)) / ycs) + 1\n",
    "        ncellt = float(ncellx * ncelly)  # TODO: not used\n",
    "\n",
    "        # Loop over all the origin offsets selected\n",
    "        xfac = min((xcs / roff), (0.5 * (xmax - xmin)))\n",
    "        yfac = min((ycs / roff), (0.5 * (ymax - ymin)))\n",
    "        for kp in range(1, noff + 1):\n",
    "            xo = xo1 - (float(kp) - 1.0) * xfac\n",
    "            yo = yo1 - (float(kp) - 1.0) * yfac\n",
    "\n",
    "            # Initialize the cumulative weight indicators\n",
    "            cellwt.fill(0.0)\n",
    "\n",
    "            # Determine which cell each datum is in\n",
    "            for i in range(0, nd):\n",
    "                icellx = int((x[i] - xo) / xcs) + 1\n",
    "                icelly = int((y[i] - yo) / ycs) + 1\n",
    "                icell = icellx + (icelly - 1) * ncellx\n",
    "                index[i] = icell   #  !!!\n",
    "                # cellwt[icell] = cellwt[icell] + 1.0     \n",
    "                if icell < len(cellwt):\n",
    "                    cellwt[icell] = cellwt[icell] + 1.0     \n",
    "\n",
    "            # The weight assigned to each datum is inversely proportional to the\n",
    "            # number of data in the cell. We first need to get the sum of\n",
    "            # weights so that we can normalize the weights to sum to one\n",
    "            sumw = 0.0\n",
    "            for i in range(0, nd):\n",
    "                ipoint = index[i]\n",
    "                # sumw = sumw + (1.0 / cellwt[ipoint])     \n",
    "                if ipoint < len(cellwt):\n",
    "                    sumw = sumw + (1.0 / cellwt[ipoint])\n",
    "            sumw = 1.0 / sumw\n",
    "\n",
    "            # Accumulate the array of weights (that now sum to one)\n",
    "            for i in range(0, nd):\n",
    "                ipoint = index[i]\n",
    "                # wt[i] = wt[i] + (1.0 / cellwt[ipoint]) * sumw       \n",
    "                if ipoint < len(cellwt):\n",
    "                    wt[i] = wt[i] + (1.0 / cellwt[ipoint]) * sumw\n",
    "\n",
    "        # End loop over all offsets\n",
    "\n",
    "        # Compute the weighted average for this cell size\n",
    "        sumw = 0.0\n",
    "        sumwg = 0.0\n",
    "        for i in range(0, nd):\n",
    "            sumw = sumw + wt[i]\n",
    "            sumwg = sumwg + wt[i] * v[i]\n",
    "        vrcr = sumwg / sumw\n",
    "        vrcr_mat[lp] = vrcr\n",
    "        xcs_mat[lp] = xcs\n",
    "\n",
    "        # See if this weighting is optimal\n",
    "        if iminmax and vrcr < vrop or not iminmax and vrcr > vrop or ncell == 1:\n",
    "            best = xcs  # TODO: not used\n",
    "            vrop = vrcr\n",
    "            wtopt = wt.copy()  # deep copy\n",
    "\n",
    "    # End main loop over all cell sizes\n",
    "\n",
    "    # Get the optimal weights\n",
    "    sumw = 0.0\n",
    "    for i in range(0, nd):\n",
    "        sumw = sumw + wtopt[i]\n",
    "    wtmin = np.min(wtopt)  # TODO: not used\n",
    "    wtmax = np.max(wtopt)  # TODO: not used\n",
    "    facto = float(nd) / sumw\n",
    "    wtopt = wtopt * facto\n",
    "    return wtopt, xcs_mat, vrcr_mat"
   ]
  },
  {
   "cell_type": "markdown",
   "metadata": {},
   "source": [
    "# Univariate Truth Model Generator\n",
    "\n",
    "\n",
    "Let's use the sequential Gaussian simulator (SGSIM) on any feature of interest (porosity) to populate an array of shape 100x100 via simulation using the next block of code."
   ]
  },
  {
   "cell_type": "code",
   "execution_count": 6,
   "metadata": {
    "ExecuteTime": {
     "end_time": "2021-06-16T08:31:01.096156Z",
     "start_time": "2021-06-16T08:30:58.789785Z"
    }
   },
   "outputs": [],
   "source": [
    "xmin = 0.0; xmax = 1000\n",
    "ymin = 0.0; ymax = 1000\n",
    "\n",
    "bias_frac = 0.9\n",
    "num_realizations = 10 # For quick example to show, 1000 was used in paper\n",
    "random_sample_max = 1000 # maximum number of random samples\n",
    "wt_min = 0.01\n",
    "\n",
    "\n",
    "seed = 45 \n",
    "\n",
    "# Arrays below store random values for every parameter changing using the utility functions defined later in the code for each realization \n",
    "random_seeds = generate_random_seeds(num_realizations, 10000, 100000)\n",
    "wt_maxs = generate_random_floats(num_realizations, 1.0, 15.0)\n",
    "hmajs, hmins = generate_hmajs_hmins(num_realizations, 800, 1600, 300, 1000)\n",
    "spacings = generate_random_ints(num_realizations, 5, 20)\n",
    "means = generate_random_floats(num_realizations, 0.10, 0.17)\n",
    "stdevs = generate_random_floats(num_realizations, 0.02, 0.05)\n",
    "\n",
    "\n",
    "                            \n",
    "name = 'Porosity'      # name of the feature of interest                   \n",
    "nug = 0.0              # nugget effect - variogram model                  \n",
    "it = 1                 # type of structure (1 -spherical, 2 - exponential, 3 - Gaussian)                   \n",
    "azi = 60               # primary direction/azimuth of continuity (0 = y positive, 90 = x positive)\n",
    "np.random.seed(seed = seed)\n",
    "\n",
    "\n",
    "# Make the dummy dataset (should be outside the range of correlation of the model)\n",
    "df = pd.DataFrame({'X':np.full(100,-9999),'Y':np.full(100,-9999),name:np.random.normal(0.0,1.0,100)})\n",
    "\n",
    "\n",
    "nx = 100                                   # number of cells in the x directions\n",
    "ny = 100                                   # number of cells in the y directions\n",
    "xsiz = 10.0                                # size of the cells in the x directions\n",
    "ysiz = 10.0                                # size of the cells in the x directions\n",
    "xmn = xsiz * 0.5; ymn = ysiz * 0.5    # assume origin at 0,0, calculate the 1 cell centroid    \n",
    "xmin = xmn - 0.5*xsiz                      # assume origin at 0,0, calculate the min and max x/y coordinates\n",
    "ymin = ymn - 0.5*ysiz\n",
    "xmax = xmin + nx * xsiz \n",
    "ymax = ymin + ny * ysiz\n",
    "vmin = 0.0;  vmax = 0.25                        # feature min and max for color bars"
   ]
  },
  {
   "cell_type": "markdown",
   "metadata": {},
   "source": [
    "Next, let's extract samples from the truth model realizations "
   ]
  },
  {
   "cell_type": "code",
   "execution_count": 7,
   "metadata": {
    "ExecuteTime": {
     "end_time": "2021-06-16T10:23:12.630043Z",
     "start_time": "2021-06-16T08:31:01.098486Z"
    },
    "scrolled": true
   },
   "outputs": [
    {
     "name": "stdout",
     "output_type": "stream",
     "text": [
      "\n",
      " Data for SGSIM: Number of acceptable data     = 100\n",
      "                 Number trimmed                = 0\n",
      "                 Weighted Average              = -0.1392\n",
      "                 Weighted Variance             = 0.8667\n",
      "                 Weighted Transformed Average  = -0.1392\n",
      "                 Weighted Transformed Variance = 0.8667\n",
      "Setting up rotation matrices for variogram and search\n",
      "Working on realization number 0\n",
      "   currently on node 0\n",
      "   currently on node 1000\n",
      "   currently on node 2000\n",
      "   currently on node 3000\n",
      "   currently on node 4000\n",
      "   currently on node 5000\n",
      "   currently on node 6000\n",
      "   currently on node 7000\n",
      "   currently on node 8000\n",
      "   currently on node 9000\n",
      "Reassigning data to nodes\n",
      "\n",
      " Realization 0: number   = 10000\n",
      "                                   mean     = -0.1734 (close to 0.0?)\n",
      "                                   variance = 0.561 (close to gammabar(V,V)? approx. 1.0)\n",
      "\n",
      " Data for SGSIM: Number of acceptable data     = 100\n",
      "                 Number trimmed                = 0\n",
      "                 Weighted Average              = -0.1392\n",
      "                 Weighted Variance             = 0.8667\n",
      "                 Weighted Transformed Average  = -0.1392\n",
      "                 Weighted Transformed Variance = 0.8667\n",
      "Setting up rotation matrices for variogram and search\n",
      "Working on realization number 0\n",
      "   currently on node 0\n",
      "   currently on node 1000\n",
      "   currently on node 2000\n",
      "   currently on node 3000\n",
      "   currently on node 4000\n",
      "   currently on node 5000\n",
      "   currently on node 6000\n",
      "   currently on node 7000\n",
      "   currently on node 8000\n",
      "   currently on node 9000\n",
      "Reassigning data to nodes\n",
      "\n",
      " Realization 0: number   = 10000\n",
      "                                   mean     = -0.0983 (close to 0.0?)\n",
      "                                   variance = 0.5862 (close to gammabar(V,V)? approx. 1.0)\n",
      "\n",
      " Data for SGSIM: Number of acceptable data     = 100\n",
      "                 Number trimmed                = 0\n",
      "                 Weighted Average              = -0.1392\n",
      "                 Weighted Variance             = 0.8667\n",
      "                 Weighted Transformed Average  = -0.1392\n",
      "                 Weighted Transformed Variance = 0.8667\n",
      "Setting up rotation matrices for variogram and search\n",
      "Working on realization number 0\n",
      "   currently on node 0\n",
      "   currently on node 1000\n",
      "   currently on node 2000\n",
      "   currently on node 3000\n",
      "   currently on node 4000\n",
      "   currently on node 5000\n",
      "   currently on node 6000\n",
      "   currently on node 7000\n",
      "   currently on node 8000\n",
      "   currently on node 9000\n",
      "Reassigning data to nodes\n",
      "\n",
      " Realization 0: number   = 10000\n",
      "                                   mean     = -0.0567 (close to 0.0?)\n",
      "                                   variance = 0.702 (close to gammabar(V,V)? approx. 1.0)\n",
      "\n",
      " Data for SGSIM: Number of acceptable data     = 100\n",
      "                 Number trimmed                = 0\n",
      "                 Weighted Average              = -0.1392\n",
      "                 Weighted Variance             = 0.8667\n",
      "                 Weighted Transformed Average  = -0.1392\n",
      "                 Weighted Transformed Variance = 0.8667\n",
      "Setting up rotation matrices for variogram and search\n",
      "Working on realization number 0\n",
      "   currently on node 0\n",
      "   currently on node 1000\n",
      "   currently on node 2000\n",
      "   currently on node 3000\n",
      "   currently on node 4000\n",
      "   currently on node 5000\n",
      "   currently on node 6000\n",
      "   currently on node 7000\n",
      "   currently on node 8000\n",
      "   currently on node 9000\n",
      "Reassigning data to nodes\n",
      "\n",
      " Realization 0: number   = 10000\n",
      "                                   mean     = 0.0379 (close to 0.0?)\n",
      "                                   variance = 0.5665 (close to gammabar(V,V)? approx. 1.0)\n",
      "\n",
      " Data for SGSIM: Number of acceptable data     = 100\n",
      "                 Number trimmed                = 0\n",
      "                 Weighted Average              = -0.1392\n",
      "                 Weighted Variance             = 0.8667\n",
      "                 Weighted Transformed Average  = -0.1392\n",
      "                 Weighted Transformed Variance = 0.8667\n",
      "Setting up rotation matrices for variogram and search\n",
      "Working on realization number 0\n",
      "   currently on node 0\n",
      "   currently on node 1000\n",
      "   currently on node 2000\n",
      "   currently on node 3000\n",
      "   currently on node 4000\n",
      "   currently on node 5000\n",
      "   currently on node 6000\n",
      "   currently on node 7000\n",
      "   currently on node 8000\n",
      "   currently on node 9000\n",
      "Reassigning data to nodes\n",
      "\n",
      " Realization 0: number   = 10000\n",
      "                                   mean     = 0.0494 (close to 0.0?)\n",
      "                                   variance = 0.4301 (close to gammabar(V,V)? approx. 1.0)\n",
      "\n",
      " Data for SGSIM: Number of acceptable data     = 100\n",
      "                 Number trimmed                = 0\n",
      "                 Weighted Average              = -0.1392\n",
      "                 Weighted Variance             = 0.8667\n",
      "                 Weighted Transformed Average  = -0.1392\n",
      "                 Weighted Transformed Variance = 0.8667\n",
      "Setting up rotation matrices for variogram and search\n",
      "Working on realization number 0\n",
      "   currently on node 0\n",
      "   currently on node 1000\n",
      "   currently on node 2000\n",
      "   currently on node 3000\n",
      "   currently on node 4000\n",
      "   currently on node 5000\n",
      "   currently on node 6000\n",
      "   currently on node 7000\n",
      "   currently on node 8000\n",
      "   currently on node 9000\n",
      "Reassigning data to nodes\n",
      "\n",
      " Realization 0: number   = 10000\n",
      "                                   mean     = -0.0174 (close to 0.0?)\n",
      "                                   variance = 0.6534 (close to gammabar(V,V)? approx. 1.0)\n",
      "\n",
      " Data for SGSIM: Number of acceptable data     = 100\n",
      "                 Number trimmed                = 0\n",
      "                 Weighted Average              = -0.1392\n",
      "                 Weighted Variance             = 0.8667\n",
      "                 Weighted Transformed Average  = -0.1392\n",
      "                 Weighted Transformed Variance = 0.8667\n",
      "Setting up rotation matrices for variogram and search\n",
      "Working on realization number 0\n",
      "   currently on node 0\n",
      "   currently on node 1000\n",
      "   currently on node 2000\n",
      "   currently on node 3000\n",
      "   currently on node 4000\n",
      "   currently on node 5000\n",
      "   currently on node 6000\n",
      "   currently on node 7000\n",
      "   currently on node 8000\n",
      "   currently on node 9000\n",
      "Reassigning data to nodes\n",
      "\n",
      " Realization 0: number   = 10000\n",
      "                                   mean     = -0.1117 (close to 0.0?)\n",
      "                                   variance = 0.6119 (close to gammabar(V,V)? approx. 1.0)\n",
      "\n",
      " Data for SGSIM: Number of acceptable data     = 100\n",
      "                 Number trimmed                = 0\n",
      "                 Weighted Average              = -0.1392\n",
      "                 Weighted Variance             = 0.8667\n",
      "                 Weighted Transformed Average  = -0.1392\n",
      "                 Weighted Transformed Variance = 0.8667\n",
      "Setting up rotation matrices for variogram and search\n",
      "Working on realization number 0\n",
      "   currently on node 0\n",
      "   currently on node 1000\n",
      "   currently on node 2000\n",
      "   currently on node 3000\n",
      "   currently on node 4000\n",
      "   currently on node 5000\n",
      "   currently on node 6000\n",
      "   currently on node 7000\n",
      "   currently on node 8000\n",
      "   currently on node 9000\n",
      "Reassigning data to nodes\n",
      "\n",
      " Realization 0: number   = 10000\n",
      "                                   mean     = 0.0983 (close to 0.0?)\n",
      "                                   variance = 0.5394 (close to gammabar(V,V)? approx. 1.0)\n",
      "\n",
      " Data for SGSIM: Number of acceptable data     = 100\n",
      "                 Number trimmed                = 0\n",
      "                 Weighted Average              = -0.1392\n",
      "                 Weighted Variance             = 0.8667\n",
      "                 Weighted Transformed Average  = -0.1392\n",
      "                 Weighted Transformed Variance = 0.8667\n",
      "Setting up rotation matrices for variogram and search\n",
      "Working on realization number 0\n",
      "   currently on node 0\n",
      "   currently on node 1000\n",
      "   currently on node 2000\n",
      "   currently on node 3000\n",
      "   currently on node 4000\n",
      "   currently on node 5000\n",
      "   currently on node 6000\n",
      "   currently on node 7000\n",
      "   currently on node 8000\n",
      "   currently on node 9000\n",
      "Reassigning data to nodes\n",
      "\n",
      " Realization 0: number   = 10000\n",
      "                                   mean     = -0.1169 (close to 0.0?)\n",
      "                                   variance = 0.5844 (close to gammabar(V,V)? approx. 1.0)\n",
      "\n",
      " Data for SGSIM: Number of acceptable data     = 100\n",
      "                 Number trimmed                = 0\n",
      "                 Weighted Average              = -0.1392\n",
      "                 Weighted Variance             = 0.8667\n",
      "                 Weighted Transformed Average  = -0.1392\n",
      "                 Weighted Transformed Variance = 0.8667\n",
      "Setting up rotation matrices for variogram and search\n",
      "Working on realization number 0\n",
      "   currently on node 0\n",
      "   currently on node 1000\n",
      "   currently on node 2000\n",
      "   currently on node 3000\n",
      "   currently on node 4000\n",
      "   currently on node 5000\n",
      "   currently on node 6000\n",
      "   currently on node 7000\n",
      "   currently on node 8000\n",
      "   currently on node 9000\n",
      "Reassigning data to nodes\n",
      "\n",
      " Realization 0: number   = 10000\n",
      "                                   mean     = 0.0575 (close to 0.0?)\n",
      "                                   variance = 0.48 (close to gammabar(V,V)? approx. 1.0)\n"
     ]
    }
   ],
   "source": [
    "np.random.seed(seed = seed)\n",
    "\n",
    "\n",
    "df_biased = []\n",
    "df_biasedNN = []\n",
    "df_biasedK = []\n",
    "biased_len = []\n",
    "\n",
    "for i in range(0,num_realizations): \n",
    "    \n",
    "    # Variogram model generated and stored to object vario\n",
    "    vario = GSLIB.make_variogram(nug,nst=1,it1=it,cc1=1.0,azi1=azi,hmaj1=hmajs[i],hmin1=hmins[i]) \n",
    "\n",
    "    # calculate a stochastic SGSIM realization with standard normal distribution, first, we calculate the simulated truth model over the specified grid and variogram model generated\n",
    "    sim_ns = geostats.sgsim(df,'X','Y',name,wcol=-1,scol=-1,tmin=-9999,tmax=9999,itrans=0,ismooth=0,dftrans=0,tcol=0, \n",
    "                twtcol=0,zmin=-3.0,zmax=3.0,ltail=1,ltpar=-3.0,utail=1,utpar=3.0,nsim=1,\n",
    "                nx=nx,xmn=xmn,xsiz=xsiz,ny=ny,ymn=ymn,ysiz=ysiz,seed=random_seeds[i],\n",
    "                ndmin=0,ndmax=100,nodmax=10,mults=0,nmult=2,noct=-1,radius=hmajs[i],radius1=1,sang1=0,\n",
    "                mxctx=10,mxcty=10,ktype=0,colocorr=0.0,sec_map=0,vario=vario)\n",
    "\n",
    "    #Apply affine correction to adjust the standard normal distribution to the target mean and standard deviation \n",
    "    sim = GSLIB.affine(sim_ns,means[i],stdevs[i]) \n",
    "    \n",
    "    # Extraction of samples using regular and random_sample functions respectively\n",
    "    regular_samples = regular_sample(sim,xmin=xmin,xmax=xmax,ymin=ymin,ymax=ymax,spacing=spacings[i],\n",
    "                             minsx=xmin,maxsx=xmax,minsy=ymin,maxsy=ymax,name=name)\n",
    "    nrandom_sample = random.randint(100, random_sample_max)  # you can adjust the min(100) and max\n",
    "    random_samples = random_sample(sim,xmin=xmin,xmax=xmax,ymin=ymin,ymax=ymax,\n",
    "                                         nsamp = nrandom_sample,minsx=xmin,maxsx=xmax,minsy=ymin,maxsy=ymax,name = name)\n",
    "    \n",
    "    # Combination of regular and random samples extracted  and rejection sampling\n",
    "    samples = pd.concat([regular_samples,random_samples])\n",
    "    biased_samples = rejection_sample(samples,name,1-bias_frac,wt_min,wt_maxs[i])\n",
    "\n",
    "    # Removal of spatial duplicates because it can cause analysis issues such as singular matrices for kriging etc\n",
    "    biased_samples = biased_samples[np.invert(biased_samples.duplicated(subset=['X','Y'],keep='first'))]\n",
    "    biased_len.append(len(biased_samples))\n",
    "    \n",
    "    df_biased.append(biased_samples)\n",
    "    df_biasedNN.append(biased_samples)\n",
    "    df_biasedK.append(biased_samples)"
   ]
  },
  {
   "cell_type": "markdown",
   "metadata": {},
   "source": [
    "# Current Approach for Cell-size Selection in Cell-based Declustering (CBD)\n",
    "\n",
    "\n",
    "Using the current approach for the determination of optimal cell size over a given range of cell sizes as proposed by Journel (1983) and Deutsch (1989), the declustered mean porosity for each realization is estimated."
   ]
  },
  {
   "cell_type": "code",
   "execution_count": 8,
   "metadata": {
    "ExecuteTime": {
     "end_time": "2021-06-16T11:10:11.680945Z",
     "start_time": "2021-06-16T10:23:12.639136Z"
    }
   },
   "outputs": [
    {
     "name": "stdout",
     "output_type": "stream",
     "text": [
      "There are 435 data with:\n",
      "   mean of      0.15492629050195697 \n",
      "   min and max  0.036909662996253575 and 0.266977390513964\n",
      "   standard dev 0.04328024690873836 \n",
      "There are 687 data with:\n",
      "   mean of      0.21075156452871893 \n",
      "   min and max  0.07985565750913176 and 0.3170025203703012\n",
      "   standard dev 0.03538731659135673 \n",
      "There are 923 data with:\n",
      "   mean of      0.19228487902251648 \n",
      "   min and max  0.07297666031950403 and 0.33261155997884395\n",
      "   standard dev 0.0425631117837295 \n",
      "There are 891 data with:\n",
      "   mean of      0.12567703714899406 \n",
      "   min and max  0.0360824719674461 and 0.20808604009277726\n",
      "   standard dev 0.03500449268389432 \n",
      "There are 1286 data with:\n",
      "   mean of      0.16908696970841322 \n",
      "   min and max  -0.003930285758366653 and 0.3038424309858991\n",
      "   standard dev 0.04575237513225278 \n",
      "There are 274 data with:\n",
      "   mean of      0.19462280462045584 \n",
      "   min and max  0.09777879217471505 and 0.3094374724367369\n",
      "   standard dev 0.04391519538796335 \n",
      "There are 750 data with:\n",
      "   mean of      0.13906009673286512 \n",
      "   min and max  0.03468535989945262 and 0.2036788181607406\n",
      "   standard dev 0.03060415661457063 \n",
      "There are 326 data with:\n",
      "   mean of      0.1657705509951224 \n",
      "   min and max  0.05564409280334981 and 0.22977963441892735\n",
      "   standard dev 0.02670529372270777 \n",
      "There are 4094 data with:\n",
      "   mean of      0.18663353732029883 \n",
      "   min and max  0.024789302711213573 and 0.3155787585121146\n",
      "   standard dev 0.045979056061367714 \n",
      "There are 625 data with:\n",
      "   mean of      0.18537048078773005 \n",
      "   min and max  0.06128770268502563 and 0.3203882041656533\n",
      "   standard dev 0.04397185849267913 \n"
     ]
    }
   ],
   "source": [
    "index = 1\n",
    "x_and_y_vals = {}\n",
    "naive = []\n",
    "CBD = []\n",
    "truth = []\n",
    "rel_n = []\n",
    "rel_CBD = []\n",
    "cbd_cellsize = []\n",
    "result = {} # contains  results\n",
    "CBD_cellsize = []\n",
    "CBD_dmeans = []\n",
    "\n",
    "\n",
    "\n",
    "\n",
    "for i in range(len(df_biased)):\n",
    "    wts, cell_sizes, dmeans = geostats.declus(df_biased[i],'X','Y',name,iminmax = 1, noff= 10, ncell=100,cmin=1,cmax=2000)\n",
    "    x_and_y_vals['X' + str(index)] = df_biased[i]['X'].tolist() # X Coordinates addition to list and renumbering for every realization, which is stored\n",
    "    x_and_y_vals['Y' + str(index)] = df_biased[i]['Y'].tolist() # Y Coordinates addition to list and renumbering for every realization, which is stored\n",
    "    index = index + 1 # increment of X,Y key names in dict to store till the entered number of realization is met e.g., X10 and Y10 for 10 realizations\n",
    "    df_biased[i]['Wts'] = wts                            # add weights to the biased_samples DataFrame\n",
    "    \n",
    "    \n",
    "    # to calculate the corresponding por value to the elbow, lets save dmeans and its cell sizes to a list for each realization\n",
    "    CBD_cellsize.append(cell_sizes)\n",
    "    CBD_dmeans.append(dmeans)\n",
    "    \n",
    "    \n",
    "    \n",
    "    naive_mean = np.average(df_biased[i][name].values)\n",
    "    CBD_mean = np.average(df_biased[i][name].values, weights=df_biased[i]['Wts'].values)\n",
    "    truth_mean = means[i]\n",
    "    rel_naive_error = ((naive_mean-truth_mean)*100)/truth_mean\n",
    "    rel_CBD_error = ((CBD_mean-truth_mean)*100)/truth_mean\n",
    "    opt_cell = cell_sizes[np.where(np.isin(dmeans, dmeans.min()))].item(0) # Tells the minimizing cell size that gives the CBD_mean\n",
    "    \n",
    "\n",
    "    # The results and other useful information are initially stored as lists \n",
    "    naive.append(naive_mean)\n",
    "    CBD.append(CBD_mean)\n",
    "    truth.append(truth_mean)\n",
    "    rel_n.append(rel_naive_error)\n",
    "    rel_CBD.append(rel_CBD_error)\n",
    "    cbd_cellsize.append(opt_cell)\n",
    "    \n",
    "    \n",
    "    # Storage of results from the lists created for all realizations obtained in a dictionay that contains a key named for every needed parameter    \n",
    "    result['truth'] = truth\n",
    "    result['naive'] = naive\n",
    "    result['CBDpor'] = CBD\n",
    "    result['rel_n'] = rel_n\n",
    "    result['rel_CBD'] = rel_CBD\n",
    "    result['cbd_cellsize'] = cbd_cellsize"
   ]
  },
  {
   "cell_type": "markdown",
   "metadata": {},
   "source": [
    "Let's convert the result dictionary created to dataframe consisting of needed variables."
   ]
  },
  {
   "cell_type": "code",
   "execution_count": 9,
   "metadata": {
    "ExecuteTime": {
     "end_time": "2021-06-16T11:10:11.726215Z",
     "start_time": "2021-06-16T11:10:11.685562Z"
    },
    "scrolled": true
   },
   "outputs": [
    {
     "data": {
      "text/plain": "      truth     naive    CBDpor      rel_n    rel_CBD  cbd_cellsize  \\\n0  0.125423  0.154926  0.134716  23.522800   7.409187         80.96   \n1  0.162005  0.210752  0.196194  30.089850  21.104064         80.96   \n2  0.156733  0.192285  0.174550  22.682892  11.367436         80.96   \n3  0.114037  0.125677  0.115733  10.207501   1.487133         60.97   \n4  0.160747  0.169087  0.163285   5.188238   1.579104         60.97   \n\n   delta_error  biased_samples  random_seed     wt_max  hmaj  hmin  spacing  \\\n0    16.113613             435        45635   6.084647   874   374       16   \n1     8.985786             687        64747  13.400924  1063   563       13   \n2    11.315456             923        73966  12.346649   987   487       11   \n3     8.720368             891        43772   3.807347  1405   905       11   \n4     3.609134            1286        20732  13.149406  1258   758        9   \n\n      stdev  \n0  0.030896  \n1  0.046573  \n2  0.044314  \n3  0.026016  \n4  0.046034  ",
      "text/html": "<div>\n<style scoped>\n    .dataframe tbody tr th:only-of-type {\n        vertical-align: middle;\n    }\n\n    .dataframe tbody tr th {\n        vertical-align: top;\n    }\n\n    .dataframe thead th {\n        text-align: right;\n    }\n</style>\n<table border=\"1\" class=\"dataframe\">\n  <thead>\n    <tr style=\"text-align: right;\">\n      <th></th>\n      <th>truth</th>\n      <th>naive</th>\n      <th>CBDpor</th>\n      <th>rel_n</th>\n      <th>rel_CBD</th>\n      <th>cbd_cellsize</th>\n      <th>delta_error</th>\n      <th>biased_samples</th>\n      <th>random_seed</th>\n      <th>wt_max</th>\n      <th>hmaj</th>\n      <th>hmin</th>\n      <th>spacing</th>\n      <th>stdev</th>\n    </tr>\n  </thead>\n  <tbody>\n    <tr>\n      <th>0</th>\n      <td>0.125423</td>\n      <td>0.154926</td>\n      <td>0.134716</td>\n      <td>23.522800</td>\n      <td>7.409187</td>\n      <td>80.96</td>\n      <td>16.113613</td>\n      <td>435</td>\n      <td>45635</td>\n      <td>6.084647</td>\n      <td>874</td>\n      <td>374</td>\n      <td>16</td>\n      <td>0.030896</td>\n    </tr>\n    <tr>\n      <th>1</th>\n      <td>0.162005</td>\n      <td>0.210752</td>\n      <td>0.196194</td>\n      <td>30.089850</td>\n      <td>21.104064</td>\n      <td>80.96</td>\n      <td>8.985786</td>\n      <td>687</td>\n      <td>64747</td>\n      <td>13.400924</td>\n      <td>1063</td>\n      <td>563</td>\n      <td>13</td>\n      <td>0.046573</td>\n    </tr>\n    <tr>\n      <th>2</th>\n      <td>0.156733</td>\n      <td>0.192285</td>\n      <td>0.174550</td>\n      <td>22.682892</td>\n      <td>11.367436</td>\n      <td>80.96</td>\n      <td>11.315456</td>\n      <td>923</td>\n      <td>73966</td>\n      <td>12.346649</td>\n      <td>987</td>\n      <td>487</td>\n      <td>11</td>\n      <td>0.044314</td>\n    </tr>\n    <tr>\n      <th>3</th>\n      <td>0.114037</td>\n      <td>0.125677</td>\n      <td>0.115733</td>\n      <td>10.207501</td>\n      <td>1.487133</td>\n      <td>60.97</td>\n      <td>8.720368</td>\n      <td>891</td>\n      <td>43772</td>\n      <td>3.807347</td>\n      <td>1405</td>\n      <td>905</td>\n      <td>11</td>\n      <td>0.026016</td>\n    </tr>\n    <tr>\n      <th>4</th>\n      <td>0.160747</td>\n      <td>0.169087</td>\n      <td>0.163285</td>\n      <td>5.188238</td>\n      <td>1.579104</td>\n      <td>60.97</td>\n      <td>3.609134</td>\n      <td>1286</td>\n      <td>20732</td>\n      <td>13.149406</td>\n      <td>1258</td>\n      <td>758</td>\n      <td>9</td>\n      <td>0.046034</td>\n    </tr>\n  </tbody>\n</table>\n</div>"
     },
     "execution_count": 9,
     "metadata": {},
     "output_type": "execute_result"
    }
   ],
   "source": [
    "data = pd.DataFrame.from_dict(result)\n",
    "data['delta_error'] = data['rel_n'] - data['rel_CBD'] \n",
    "data['biased_samples'] = biased_len\n",
    "data['random_seed'] = random_seeds\n",
    "data['wt_max'] = wt_maxs\n",
    "data['hmaj'] = hmajs\n",
    "data['hmin'] = hmins\n",
    "data['spacing'] = spacings\n",
    "data['stdev'] = stdevs\n",
    "data.head()"
   ]
  },
  {
   "cell_type": "markdown",
   "metadata": {},
   "source": [
    "\n",
    "Let's save the current approach results to a csv file"
   ]
  },
  {
   "cell_type": "code",
   "execution_count": 10,
   "metadata": {
    "ExecuteTime": {
     "end_time": "2021-06-16T11:10:14.879799Z",
     "start_time": "2021-06-16T11:10:11.732291Z"
    }
   },
   "outputs": [],
   "source": [
    "data.to_csv( \"CBD_realization_results.csv\") #cbd solns and corresponding settings \n",
    "\n",
    "# Serialize X,Y coordinates for each realization into file:\n",
    "XYcoords = x_and_y_vals\n",
    "json.dump( XYcoords, open( \"XYcoords.json\", 'w' ) )\n",
    "\n",
    "# Uncomment and run below if loading data from file after being run\n",
    "# saved_realizations = pd.read_csv(\"CBD_realization_results.csv\", index_col=0) # load last stored csv containing realizations from existing workflow\n",
    "# data = saved_realizations.reset_index(drop=True)\n",
    "# XYcoords = json.load( open( \"XYcoords.json\" ) )# Read stored X,Y coordinates from file\n",
    "# data.head()"
   ]
  },
  {
   "cell_type": "markdown",
   "metadata": {},
   "source": [
    "# Proposed Spatial Statistics-based Assignment of Declustering Cell Size (SSADC)\n",
    "\n",
    "\n",
    "The optimal cell size can be mathematically inferred as the distance that decouples the clustered dataset i.e. the distance at which clustering just starts to occur. Hence, we can answer the research prompt and verify the hypothesis stated earlier by using spatial statistics to evaluate inter-samples distance at which clustering occurs, and create a novel objective workflow.\n",
    "\n",
    "\n",
    " The point pattern is assumed to be “stationary” (statistically homogeneous) so that the Average Nearest Neighbors and Ripley’s K functions, be well defined and its corresponding estimators are approximately unbiased.\n",
    "\n",
    "\n",
    "Next, we extract coordinates from prior analysis for each realization to enable it to be used."
   ]
  },
  {
   "cell_type": "code",
   "execution_count": 11,
   "metadata": {
    "ExecuteTime": {
     "end_time": "2021-06-16T11:10:15.007691Z",
     "start_time": "2021-06-16T11:10:15.000320Z"
    }
   },
   "outputs": [],
   "source": [
    "temp = []\n",
    "coord_list = []\n",
    "for key, value in XYcoords.items():\n",
    "    temp = [key,value]\n",
    "    coord_list.append(temp)\n",
    "    \n",
    "X_list = coord_list[0::2] # putting all the X coordinates for each realization into a list\n",
    "Y_list = coord_list[1::2] # putting all the Y coordinates for each realization into a list\n",
    "\n",
    "mylist = []\n",
    "masterlist = []   \n",
    "for i in range(0,len(data)):\n",
    "    mylist = []\n",
    "    xi = X_list[i][1]\n",
    "    yi = Y_list[i][1]\n",
    "    mylist.append(xi)\n",
    "    mylist.append(yi)\n",
    "    masterlist.append(mylist) #masterlist consists of arrays of X,Y in each realization"
   ]
  },
  {
   "cell_type": "markdown",
   "metadata": {},
   "source": [
    "## Nearest Neighbors (NN)\n",
    "\n",
    "\n",
    "The nearest-neighbor distance for an event in a point pattern is the distance from that event to the nearest event also in the point pattern. The distance between events at different locations may be calculated using the mean nearest-neighbor distance originally:\n",
    "\n",
    "\n",
    "\\begin{equation*}\n",
    "\\overline{r}_{min} = \\frac{{\\sum_{i=1}^{N} {\\overline{r}_{min}(s_i)}}}{N}\n",
    "\\end{equation*} \n",
    "    \n",
    "\n",
    "NN analysis measures the average distance from each point in the study area to its nearest point. An extension of this idea was used for in this work to plot the NN values for different order neighbors, i.e., for the first closest point, then the second closest point, and so forth. Also, the shape of the NN curve as a function of ordered neighbors can provide insight into the spatial arrangement of points relative to one another. (Clarks and Evans, 1954)\n",
    "\n",
    "\n",
    "Based on the nature of the problem, we can automate the elbow identification and keep track of the distance at which it occurs, then replace the optimal cell size from the current approach by adapting the method used in a similar problem of DBSCAN clustering when estimating the neighborhood radius of a search window from a k-distance or nearest neighbor plot."
   ]
  },
  {
   "cell_type": "code",
   "execution_count": 12,
   "metadata": {
    "ExecuteTime": {
     "end_time": "2021-06-16T11:10:23.264088Z",
     "start_time": "2021-06-16T11:10:15.011881Z"
    }
   },
   "outputs": [],
   "source": [
    "# Automation of elbow location for each realization and storage to a list named elbows for ANN\n",
    "\n",
    "elbows = []\n",
    "\n",
    "for j in range(0,len(data)):\n",
    "    \n",
    "# conversion of the masterlist to ndarray then dataframes for nearest neighbour    \n",
    "    array_2d = np.array(masterlist[j])\n",
    "    df_coord = pd.DataFrame(data = array_2d)\n",
    "    df_coord.rename(index = {0:'X', 1:'Y'}, inplace=True)\n",
    "    df_coord = df_coord.transpose()\n",
    "    \n",
    "# Using Nearest Neighbor analysis to find the distance between the samples\n",
    "    neigh = NearestNeighbors(n_neighbors=2)\n",
    "    nbrs = neigh.fit(df_coord[['X','Y']].values)\n",
    "    distances, indices = nbrs.kneighbors(df_coord[['X','Y']].values)\n",
    "    distances = np.sort(distances, axis=0)\n",
    "    distances = distances[:,1]\n",
    "\n",
    "    \n",
    "    # Optimal Eps in each elbow identification for every realization\n",
    "    data_2 = pd.DataFrame(data = distances)     \n",
    "    data_2['indices'] = [i for i in range(0,len(data_2))]\n",
    "    data_2.rename(columns = {0:'distances'}, inplace=True)\n",
    "    knee_pt = KneeLocator(data_2['indices'],data_2['distances'], S=1.0, curve='convex', direction='increasing')\n",
    "    elbow_val = data_2.loc[data_2['indices'] == knee_pt.knee,'distances'].iloc[0] \n",
    "    elbows.append(elbow_val)\n",
    "    \n",
    "# Save intersample distances at each elbows for all realizations into file\n",
    "np.save('elbows', elbows)"
   ]
  },
  {
   "cell_type": "markdown",
   "metadata": {},
   "source": [
    "If loading stored cell sizes at NN elbow points from file run the next cell "
   ]
  },
  {
   "cell_type": "code",
   "execution_count": 13,
   "metadata": {
    "ExecuteTime": {
     "end_time": "2021-06-16T11:10:23.270497Z",
     "start_time": "2021-06-16T11:10:23.266771Z"
    }
   },
   "outputs": [],
   "source": [
    "# elbows = np.load('elbows.npy') "
   ]
  },
  {
   "cell_type": "markdown",
   "metadata": {},
   "source": [
    "Now, let's run cell-based declustering again using the cell sizes from nearest neighbors."
   ]
  },
  {
   "cell_type": "code",
   "execution_count": 14,
   "metadata": {
    "ExecuteTime": {
     "end_time": "2021-06-16T11:12:24.201766Z",
     "start_time": "2021-06-16T11:10:23.301628Z"
    }
   },
   "outputs": [
    {
     "name": "stdout",
     "output_type": "stream",
     "text": [
      "There are 435 data with:\n",
      "   mean of      0.15492629050195697 \n",
      "   min and max  0.036909662996253575 and 0.266977390513964\n",
      "   standard dev 0.04328024690873836 \n",
      "There are 687 data with:\n",
      "   mean of      0.21075156452871893 \n",
      "   min and max  0.07985565750913176 and 0.3170025203703012\n",
      "   standard dev 0.03538731659135673 \n",
      "There are 923 data with:\n",
      "   mean of      0.19228487902251648 \n",
      "   min and max  0.07297666031950403 and 0.33261155997884395\n",
      "   standard dev 0.0425631117837295 \n",
      "There are 891 data with:\n",
      "   mean of      0.12567703714899406 \n",
      "   min and max  0.0360824719674461 and 0.20808604009277726\n",
      "   standard dev 0.03500449268389432 \n",
      "There are 1286 data with:\n",
      "   mean of      0.16908696970841322 \n",
      "   min and max  -0.003930285758366653 and 0.3038424309858991\n",
      "   standard dev 0.04575237513225278 \n",
      "There are 274 data with:\n",
      "   mean of      0.19462280462045584 \n",
      "   min and max  0.09777879217471505 and 0.3094374724367369\n",
      "   standard dev 0.04391519538796335 \n",
      "There are 750 data with:\n",
      "   mean of      0.13906009673286512 \n",
      "   min and max  0.03468535989945262 and 0.2036788181607406\n",
      "   standard dev 0.03060415661457063 \n",
      "There are 326 data with:\n",
      "   mean of      0.1657705509951224 \n",
      "   min and max  0.05564409280334981 and 0.22977963441892735\n",
      "   standard dev 0.02670529372270777 \n",
      "There are 4094 data with:\n",
      "   mean of      0.18663353732029883 \n",
      "   min and max  0.024789302711213573 and 0.3155787585121146\n",
      "   standard dev 0.045979056061367714 \n",
      "There are 625 data with:\n",
      "   mean of      0.18537048078773005 \n",
      "   min and max  0.06128770268502563 and 0.3203882041656533\n",
      "   standard dev 0.04397185849267913 \n"
     ]
    }
   ],
   "source": [
    "NN = []\n",
    "rel_NN = []\n",
    "result = {} # contains my results\n",
    "NN_cellsize = []\n",
    "NN_dmeans = [] \n",
    "nn_cellsize = []\n",
    "\n",
    "\n",
    "for i in range(len(df_biasedNN)):\n",
    "    wts, cell_sizes, dmeans = declus(df_biasedNN[i],'X','Y',name,iminmax = 1, noff= 10, ncell=1,cmin=int(elbows[i]),cmax=int(elbows[i]))\n",
    "    \n",
    "    df_biasedNN[i]['Wts'] = wts                            # add weights to the biased_samples DataFrame\n",
    "    \n",
    "    \n",
    "    # to calculate the corresponding por value at elbow, lets save dmeans and its cell sizes to a list for each realization\n",
    "    NN_cellsize.append(cell_sizes)\n",
    "    NN_dmeans.append(dmeans) \n",
    "    \n",
    "    \n",
    "    \n",
    "    NN_mean = np.average(df_biasedNN[i][name].values, weights=df_biasedNN[i]['Wts'].values)\n",
    "    truth_mean = means[i]\n",
    "    rel_NN_error = ((NN_mean-truth_mean)*100)/truth_mean\n",
    "    opt_cell = cell_sizes[np.where(np.isin(dmeans, dmeans.min()))].item(0)\n",
    "    \n",
    "\n",
    "    \n",
    "    NN.append(NN_mean)\n",
    "    rel_NN.append(rel_NN_error)\n",
    "    nn_cellsize.append(opt_cell)\n",
    "    \n",
    "    \n",
    "\n",
    "    result['NN'] = NN\n",
    "    result['rel_NN'] = rel_NN\n",
    "    result['NN_cellsize'] = nn_cellsize "
   ]
  },
  {
   "cell_type": "markdown",
   "metadata": {},
   "source": [
    "Next, we append NN results to dataframe"
   ]
  },
  {
   "cell_type": "code",
   "execution_count": 15,
   "metadata": {
    "ExecuteTime": {
     "end_time": "2021-06-16T11:12:24.231916Z",
     "start_time": "2021-06-16T11:12:24.204229Z"
    }
   },
   "outputs": [
    {
     "data": {
      "text/plain": "      truth     naive    CBDpor      rel_n    rel_CBD  cbd_cellsize  \\\n0  0.125423  0.154926  0.134716  23.522800   7.409187         80.96   \n1  0.162005  0.210752  0.196194  30.089850  21.104064         80.96   \n2  0.156733  0.192285  0.174550  22.682892  11.367436         80.96   \n3  0.114037  0.125677  0.115733  10.207501   1.487133         60.97   \n4  0.160747  0.169087  0.163285   5.188238   1.579104         60.97   \n\n   delta_error  biased_samples  random_seed     wt_max  hmaj  hmin  spacing  \\\n0    16.113613             435        45635   6.084647   874   374       16   \n1     8.985786             687        64747  13.400924  1063   563       13   \n2    11.315456             923        73966  12.346649   987   487       11   \n3     8.720368             891        43772   3.807347  1405   905       11   \n4     3.609134            1286        20732  13.149406  1258   758        9   \n\n      stdev     NNpor     rel_NN  nn_cellsize  delta_errorNN  \n0  0.030896  0.135860   8.321058    65.969690      15.201742  \n1  0.046573  0.200077  23.500557    41.109610       6.589293  \n2  0.044314  0.176594  12.671564    49.193496      10.011328  \n3  0.026016  0.116106   1.814136    49.193496       8.393365  \n4  0.046034  0.165677   3.067011    36.000000       2.121226  ",
      "text/html": "<div>\n<style scoped>\n    .dataframe tbody tr th:only-of-type {\n        vertical-align: middle;\n    }\n\n    .dataframe tbody tr th {\n        vertical-align: top;\n    }\n\n    .dataframe thead th {\n        text-align: right;\n    }\n</style>\n<table border=\"1\" class=\"dataframe\">\n  <thead>\n    <tr style=\"text-align: right;\">\n      <th></th>\n      <th>truth</th>\n      <th>naive</th>\n      <th>CBDpor</th>\n      <th>rel_n</th>\n      <th>rel_CBD</th>\n      <th>cbd_cellsize</th>\n      <th>delta_error</th>\n      <th>biased_samples</th>\n      <th>random_seed</th>\n      <th>wt_max</th>\n      <th>hmaj</th>\n      <th>hmin</th>\n      <th>spacing</th>\n      <th>stdev</th>\n      <th>NNpor</th>\n      <th>rel_NN</th>\n      <th>nn_cellsize</th>\n      <th>delta_errorNN</th>\n    </tr>\n  </thead>\n  <tbody>\n    <tr>\n      <th>0</th>\n      <td>0.125423</td>\n      <td>0.154926</td>\n      <td>0.134716</td>\n      <td>23.522800</td>\n      <td>7.409187</td>\n      <td>80.96</td>\n      <td>16.113613</td>\n      <td>435</td>\n      <td>45635</td>\n      <td>6.084647</td>\n      <td>874</td>\n      <td>374</td>\n      <td>16</td>\n      <td>0.030896</td>\n      <td>0.135860</td>\n      <td>8.321058</td>\n      <td>65.969690</td>\n      <td>15.201742</td>\n    </tr>\n    <tr>\n      <th>1</th>\n      <td>0.162005</td>\n      <td>0.210752</td>\n      <td>0.196194</td>\n      <td>30.089850</td>\n      <td>21.104064</td>\n      <td>80.96</td>\n      <td>8.985786</td>\n      <td>687</td>\n      <td>64747</td>\n      <td>13.400924</td>\n      <td>1063</td>\n      <td>563</td>\n      <td>13</td>\n      <td>0.046573</td>\n      <td>0.200077</td>\n      <td>23.500557</td>\n      <td>41.109610</td>\n      <td>6.589293</td>\n    </tr>\n    <tr>\n      <th>2</th>\n      <td>0.156733</td>\n      <td>0.192285</td>\n      <td>0.174550</td>\n      <td>22.682892</td>\n      <td>11.367436</td>\n      <td>80.96</td>\n      <td>11.315456</td>\n      <td>923</td>\n      <td>73966</td>\n      <td>12.346649</td>\n      <td>987</td>\n      <td>487</td>\n      <td>11</td>\n      <td>0.044314</td>\n      <td>0.176594</td>\n      <td>12.671564</td>\n      <td>49.193496</td>\n      <td>10.011328</td>\n    </tr>\n    <tr>\n      <th>3</th>\n      <td>0.114037</td>\n      <td>0.125677</td>\n      <td>0.115733</td>\n      <td>10.207501</td>\n      <td>1.487133</td>\n      <td>60.97</td>\n      <td>8.720368</td>\n      <td>891</td>\n      <td>43772</td>\n      <td>3.807347</td>\n      <td>1405</td>\n      <td>905</td>\n      <td>11</td>\n      <td>0.026016</td>\n      <td>0.116106</td>\n      <td>1.814136</td>\n      <td>49.193496</td>\n      <td>8.393365</td>\n    </tr>\n    <tr>\n      <th>4</th>\n      <td>0.160747</td>\n      <td>0.169087</td>\n      <td>0.163285</td>\n      <td>5.188238</td>\n      <td>1.579104</td>\n      <td>60.97</td>\n      <td>3.609134</td>\n      <td>1286</td>\n      <td>20732</td>\n      <td>13.149406</td>\n      <td>1258</td>\n      <td>758</td>\n      <td>9</td>\n      <td>0.046034</td>\n      <td>0.165677</td>\n      <td>3.067011</td>\n      <td>36.000000</td>\n      <td>2.121226</td>\n    </tr>\n  </tbody>\n</table>\n</div>"
     },
     "execution_count": 15,
     "metadata": {},
     "output_type": "execute_result"
    }
   ],
   "source": [
    "data['NNpor'] = NN\n",
    "data['rel_NN'] = rel_NN\n",
    "data['nn_cellsize'] = elbows #  same as nn_cellsize list in prior cell, just rounded up to the nearest integer\n",
    "data['delta_errorNN'] = data['rel_n'] - data['rel_NN'] \n",
    "\n",
    "data.head()"
   ]
  },
  {
   "cell_type": "markdown",
   "metadata": {},
   "source": [
    "## Ripley's K\n",
    "\n",
    "\n",
    "The second method in the SSADC approach is the Ripley’s K-function, which measures the randomness of a point pattern over a given spatial domain at a specified scale r. The K-function compares the expected number of points within a local neighborhood of radius r at any point in the dataset versus the expected density assuming complete spatial randomness (CSR). For the this work we will assume a 2D point process. (Ripley, 1976)\n",
    "\n",
    "\n",
    "\\begin{equation*}\n",
    "K(r) = \\frac{{\\sum_{i=1}^N \\sum_{j=1 , j\\neq i}^N  {{I_j}(d)_{ij}} }}{\\lambda N}\n",
    "\\end{equation*}\n",
    "\n",
    "\n",
    "Let's load the csv file generated in Rstudio consisting of the cell size at the maximum curvature departure from complete spatial random."
   ]
  },
  {
   "cell_type": "code",
   "execution_count": 16,
   "metadata": {
    "ExecuteTime": {
     "end_time": "2021-06-16T11:12:24.255217Z",
     "start_time": "2021-06-16T11:12:24.235088Z"
    }
   },
   "outputs": [
    {
     "data": {
      "text/plain": "     max_dep    max_curv\n0  81.859375   86.040821\n1  83.438477   65.895387\n2  80.244141   50.510147\n3  59.458008  191.938762\n4  20.302734   65.663252",
      "text/html": "<div>\n<style scoped>\n    .dataframe tbody tr th:only-of-type {\n        vertical-align: middle;\n    }\n\n    .dataframe tbody tr th {\n        vertical-align: top;\n    }\n\n    .dataframe thead th {\n        text-align: right;\n    }\n</style>\n<table border=\"1\" class=\"dataframe\">\n  <thead>\n    <tr style=\"text-align: right;\">\n      <th></th>\n      <th>max_dep</th>\n      <th>max_curv</th>\n    </tr>\n  </thead>\n  <tbody>\n    <tr>\n      <th>0</th>\n      <td>81.859375</td>\n      <td>86.040821</td>\n    </tr>\n    <tr>\n      <th>1</th>\n      <td>83.438477</td>\n      <td>65.895387</td>\n    </tr>\n    <tr>\n      <th>2</th>\n      <td>80.244141</td>\n      <td>50.510147</td>\n    </tr>\n    <tr>\n      <th>3</th>\n      <td>59.458008</td>\n      <td>191.938762</td>\n    </tr>\n    <tr>\n      <th>4</th>\n      <td>20.302734</td>\n      <td>65.663252</td>\n    </tr>\n  </tbody>\n</table>\n</div>"
     },
     "execution_count": 16,
     "metadata": {},
     "output_type": "execute_result"
    }
   ],
   "source": [
    "df_ripley = pd.read_csv(\"cellsizes_Ripley_Multiple_Realizations.csv\", index_col=0)\n",
    "df_K = df_ripley.reset_index(drop=True)\n",
    "df_K.head()"
   ]
  },
  {
   "cell_type": "markdown",
   "metadata": {},
   "source": [
    "Convert each column in the dataframe to individual lists for ease"
   ]
  },
  {
   "cell_type": "code",
   "execution_count": 17,
   "metadata": {
    "ExecuteTime": {
     "end_time": "2021-06-16T11:12:24.267371Z",
     "start_time": "2021-06-16T11:12:24.259493Z"
    }
   },
   "outputs": [],
   "source": [
    "max_deps = df_K[\"max_dep\"].tolist()\n",
    "max_curvs = df_K[\"max_curv\"].tolist()"
   ]
  },
  {
   "cell_type": "markdown",
   "metadata": {},
   "source": [
    "Now, let's run cell-based declustering again using the cell size from Ripley's K."
   ]
  },
  {
   "cell_type": "code",
   "execution_count": 18,
   "metadata": {
    "ExecuteTime": {
     "end_time": "2021-06-16T11:16:20.868140Z",
     "start_time": "2021-06-16T11:14:22.357257Z"
    }
   },
   "outputs": [
    {
     "name": "stdout",
     "output_type": "stream",
     "text": [
      "There are 435 data with:\n",
      "   mean of      0.15492629050195697 \n",
      "   min and max  0.036909662996253575 and 0.266977390513964\n",
      "   standard dev 0.04328024690873836 \n",
      "There are 687 data with:\n",
      "   mean of      0.21075156452871893 \n",
      "   min and max  0.07985565750913176 and 0.3170025203703012\n",
      "   standard dev 0.03538731659135673 \n",
      "There are 923 data with:\n",
      "   mean of      0.19228487902251648 \n",
      "   min and max  0.07297666031950403 and 0.33261155997884395\n",
      "   standard dev 0.0425631117837295 \n",
      "There are 891 data with:\n",
      "   mean of      0.12567703714899406 \n",
      "   min and max  0.0360824719674461 and 0.20808604009277726\n",
      "   standard dev 0.03500449268389432 \n",
      "There are 1286 data with:\n",
      "   mean of      0.16908696970841322 \n",
      "   min and max  -0.003930285758366653 and 0.3038424309858991\n",
      "   standard dev 0.04575237513225278 \n",
      "There are 274 data with:\n",
      "   mean of      0.19462280462045584 \n",
      "   min and max  0.09777879217471505 and 0.3094374724367369\n",
      "   standard dev 0.04391519538796335 \n",
      "There are 750 data with:\n",
      "   mean of      0.13906009673286512 \n",
      "   min and max  0.03468535989945262 and 0.2036788181607406\n",
      "   standard dev 0.03060415661457063 \n",
      "There are 326 data with:\n",
      "   mean of      0.1657705509951224 \n",
      "   min and max  0.05564409280334981 and 0.22977963441892735\n",
      "   standard dev 0.02670529372270777 \n",
      "There are 4094 data with:\n",
      "   mean of      0.18663353732029883 \n",
      "   min and max  0.024789302711213573 and 0.3155787585121146\n",
      "   standard dev 0.045979056061367714 \n",
      "There are 625 data with:\n",
      "   mean of      0.18537048078773005 \n",
      "   min and max  0.06128770268502563 and 0.3203882041656533\n",
      "   standard dev 0.04397185849267913 \n"
     ]
    }
   ],
   "source": [
    "# Now let's run cell based declustering again using the cell size from K using max_deps\n",
    "K2 = []\n",
    "rel_K2 = []\n",
    "result = {} # contains my results\n",
    "K2_cellsize = []\n",
    "K2_dmeans = [] \n",
    "k2_cellsize = []\n",
    "\n",
    "\n",
    "for i in range(len(df_biasedK)):\n",
    "    wts, cell_sizes, dmeans = declus(df_biasedK[i],'X','Y',name,iminmax = 1, noff= 10, ncell=1,cmin=int(max_curvs[i]),cmax=int(max_curvs[i]))\n",
    "    \n",
    "    df_biasedK[i]['Wts'] = wts                            # add weights to the biased_samples DataFrame\n",
    "    \n",
    "    \n",
    "    # to calculate the corresponding por value at elbow, lets save dmeans and its cell sizes to a list for each realization\n",
    "    K2_cellsize.append(cell_sizes)\n",
    "    K2_dmeans.append(dmeans) \n",
    "    \n",
    "    \n",
    "    \n",
    "    K2_mean = np.average(df_biasedK[i][name].values, weights=df_biasedK[i]['Wts'].values)\n",
    "    truth_mean = means[i]\n",
    "    rel_K2_error = ((K2_mean-truth_mean)*100)/truth_mean\n",
    "    opt_cell = cell_sizes[np.where(np.isin(dmeans, dmeans.min()))].item(0)\n",
    "    \n",
    "\n",
    "    \n",
    "    K2.append(K2_mean)\n",
    "    rel_K2.append(rel_K2_error)\n",
    "    k2_cellsize.append(opt_cell)\n",
    "\n",
    "    \n",
    "   \n",
    "    result['K2por'] = K2\n",
    "    result['rel_K2'] = rel_K2\n",
    "    result['K2_cellsize'] = k2_cellsize"
   ]
  },
  {
   "cell_type": "markdown",
   "metadata": {},
   "source": [
    "Append the declustering results obtained from using Ripley's K to determine the optimal cell size. "
   ]
  },
  {
   "cell_type": "code",
   "execution_count": 19,
   "metadata": {
    "ExecuteTime": {
     "end_time": "2021-06-16T11:16:20.905626Z",
     "start_time": "2021-06-16T11:16:20.870862Z"
    }
   },
   "outputs": [
    {
     "data": {
      "text/plain": "      truth     naive    CBDpor      rel_n    rel_CBD  cbd_cellsize  \\\n0  0.125423  0.154926  0.134716  23.522800   7.409187         80.96   \n1  0.162005  0.210752  0.196194  30.089850  21.104064         80.96   \n2  0.156733  0.192285  0.174550  22.682892  11.367436         80.96   \n3  0.114037  0.125677  0.115733  10.207501   1.487133         60.97   \n4  0.160747  0.169087  0.163285   5.188238   1.579104         60.97   \n\n   delta_error  biased_samples  random_seed     wt_max  ...  spacing  \\\n0    16.113613             435        45635   6.084647  ...       16   \n1     8.985786             687        64747  13.400924  ...       13   \n2    11.315456             923        73966  12.346649  ...       11   \n3     8.720368             891        43772   3.807347  ...       11   \n4     3.609134            1286        20732  13.149406  ...        9   \n\n      stdev     NNpor     rel_NN  nn_cellsize  delta_errorNN     K2por  \\\n0  0.030896  0.135860   8.321058    65.969690      15.201742  0.135088   \n1  0.046573  0.200077  23.500557    41.109610       6.589293  0.196789   \n2  0.044314  0.176594  12.671564    49.193496      10.011328  0.176433   \n3  0.026016  0.116106   1.814136    49.193496       8.393365  0.118917   \n4  0.046034  0.165677   3.067011    36.000000       2.121226  0.163339   \n\n      rel_K2  k2_cellsize  delta_errorK2  \n0   7.706086    86.040821      15.816715  \n1  21.471193    65.895387       8.618657  \n2  12.568900    50.510147      10.113991  \n3   4.279485   191.938762       5.928016  \n4   1.612615    65.663252       3.575623  \n\n[5 rows x 22 columns]",
      "text/html": "<div>\n<style scoped>\n    .dataframe tbody tr th:only-of-type {\n        vertical-align: middle;\n    }\n\n    .dataframe tbody tr th {\n        vertical-align: top;\n    }\n\n    .dataframe thead th {\n        text-align: right;\n    }\n</style>\n<table border=\"1\" class=\"dataframe\">\n  <thead>\n    <tr style=\"text-align: right;\">\n      <th></th>\n      <th>truth</th>\n      <th>naive</th>\n      <th>CBDpor</th>\n      <th>rel_n</th>\n      <th>rel_CBD</th>\n      <th>cbd_cellsize</th>\n      <th>delta_error</th>\n      <th>biased_samples</th>\n      <th>random_seed</th>\n      <th>wt_max</th>\n      <th>...</th>\n      <th>spacing</th>\n      <th>stdev</th>\n      <th>NNpor</th>\n      <th>rel_NN</th>\n      <th>nn_cellsize</th>\n      <th>delta_errorNN</th>\n      <th>K2por</th>\n      <th>rel_K2</th>\n      <th>k2_cellsize</th>\n      <th>delta_errorK2</th>\n    </tr>\n  </thead>\n  <tbody>\n    <tr>\n      <th>0</th>\n      <td>0.125423</td>\n      <td>0.154926</td>\n      <td>0.134716</td>\n      <td>23.522800</td>\n      <td>7.409187</td>\n      <td>80.96</td>\n      <td>16.113613</td>\n      <td>435</td>\n      <td>45635</td>\n      <td>6.084647</td>\n      <td>...</td>\n      <td>16</td>\n      <td>0.030896</td>\n      <td>0.135860</td>\n      <td>8.321058</td>\n      <td>65.969690</td>\n      <td>15.201742</td>\n      <td>0.135088</td>\n      <td>7.706086</td>\n      <td>86.040821</td>\n      <td>15.816715</td>\n    </tr>\n    <tr>\n      <th>1</th>\n      <td>0.162005</td>\n      <td>0.210752</td>\n      <td>0.196194</td>\n      <td>30.089850</td>\n      <td>21.104064</td>\n      <td>80.96</td>\n      <td>8.985786</td>\n      <td>687</td>\n      <td>64747</td>\n      <td>13.400924</td>\n      <td>...</td>\n      <td>13</td>\n      <td>0.046573</td>\n      <td>0.200077</td>\n      <td>23.500557</td>\n      <td>41.109610</td>\n      <td>6.589293</td>\n      <td>0.196789</td>\n      <td>21.471193</td>\n      <td>65.895387</td>\n      <td>8.618657</td>\n    </tr>\n    <tr>\n      <th>2</th>\n      <td>0.156733</td>\n      <td>0.192285</td>\n      <td>0.174550</td>\n      <td>22.682892</td>\n      <td>11.367436</td>\n      <td>80.96</td>\n      <td>11.315456</td>\n      <td>923</td>\n      <td>73966</td>\n      <td>12.346649</td>\n      <td>...</td>\n      <td>11</td>\n      <td>0.044314</td>\n      <td>0.176594</td>\n      <td>12.671564</td>\n      <td>49.193496</td>\n      <td>10.011328</td>\n      <td>0.176433</td>\n      <td>12.568900</td>\n      <td>50.510147</td>\n      <td>10.113991</td>\n    </tr>\n    <tr>\n      <th>3</th>\n      <td>0.114037</td>\n      <td>0.125677</td>\n      <td>0.115733</td>\n      <td>10.207501</td>\n      <td>1.487133</td>\n      <td>60.97</td>\n      <td>8.720368</td>\n      <td>891</td>\n      <td>43772</td>\n      <td>3.807347</td>\n      <td>...</td>\n      <td>11</td>\n      <td>0.026016</td>\n      <td>0.116106</td>\n      <td>1.814136</td>\n      <td>49.193496</td>\n      <td>8.393365</td>\n      <td>0.118917</td>\n      <td>4.279485</td>\n      <td>191.938762</td>\n      <td>5.928016</td>\n    </tr>\n    <tr>\n      <th>4</th>\n      <td>0.160747</td>\n      <td>0.169087</td>\n      <td>0.163285</td>\n      <td>5.188238</td>\n      <td>1.579104</td>\n      <td>60.97</td>\n      <td>3.609134</td>\n      <td>1286</td>\n      <td>20732</td>\n      <td>13.149406</td>\n      <td>...</td>\n      <td>9</td>\n      <td>0.046034</td>\n      <td>0.165677</td>\n      <td>3.067011</td>\n      <td>36.000000</td>\n      <td>2.121226</td>\n      <td>0.163339</td>\n      <td>1.612615</td>\n      <td>65.663252</td>\n      <td>3.575623</td>\n    </tr>\n  </tbody>\n</table>\n<p>5 rows × 22 columns</p>\n</div>"
     },
     "execution_count": 19,
     "metadata": {},
     "output_type": "execute_result"
    }
   ],
   "source": [
    "data['K2por'] = K2\n",
    "data['rel_K2'] = rel_K2\n",
    "data['k2_cellsize'] = max_curvs #  same as k_cellsize list in prior cell, just rounded up to the nearest integer\n",
    "data['delta_errorK2'] = data['rel_n'] - data['rel_K2'] \n",
    "\n",
    "data.head()"
   ]
  },
  {
   "cell_type": "markdown",
   "metadata": {},
   "source": [
    "Save the results to csv file "
   ]
  },
  {
   "cell_type": "code",
   "execution_count": 20,
   "metadata": {
    "ExecuteTime": {
     "end_time": "2021-06-16T11:16:20.962317Z",
     "start_time": "2021-06-16T11:16:20.910100Z"
    }
   },
   "outputs": [],
   "source": [
    "data.to_csv( \"all_realization_results.csv\") "
   ]
  },
  {
   "cell_type": "markdown",
   "metadata": {},
   "source": [
    "If loading stored realization results for all methods from file run the next cell "
   ]
  },
  {
   "cell_type": "code",
   "execution_count": 21,
   "metadata": {
    "ExecuteTime": {
     "end_time": "2021-06-16T11:16:20.969718Z",
     "start_time": "2021-06-16T11:16:20.964942Z"
    }
   },
   "outputs": [],
   "source": [
    "# all_realizations = pd.read_csv(\"all_realization.csv\", index_col=0) # load last stored csv containing realizations from existing workflow \n",
    "# data_all = all_realizations.reset_index(drop=True)"
   ]
  },
  {
   "cell_type": "markdown",
   "metadata": {},
   "source": [
    "Let's view the error distribution obtained using both the current and proposed cell size selections in cell based declustering."
   ]
  },
  {
   "cell_type": "code",
   "execution_count": 22,
   "metadata": {
    "ExecuteTime": {
     "end_time": "2021-06-17T13:10:03.383656Z",
     "start_time": "2021-06-17T13:10:02.521971Z"
    }
   },
   "outputs": [
    {
     "data": {
      "text/plain": "<Figure size 432x288 with 1 Axes>",
      "image/png": "[encoded data removed]"
     },
     "metadata": {
      "needs_background": "light"
     },
     "output_type": "display_data"
    }
   ],
   "source": [
    "## Visuals\n",
    "c = data.loc[:,'delta_error'].mean(axis = 0)\n",
    "n = data.loc[:,'delta_errorNN'].mean(axis = 0)\n",
    "k2 = data.loc[:,'delta_errorK2'].mean(axis = 0)\n",
    "\n",
    "\n",
    "sns.kdeplot(data['delta_error'], label='CBD' )\n",
    "plt.plot([c,c],[0.0,0.25],color = 'cadetblue',linestyle='--',label= 'CBD expectation')\n",
    "\n",
    "\n",
    "sns.kdeplot(data['delta_errorNN'], label='Nearest neighbor' )\n",
    "plt.plot([n,n],[0.0,0.25],color = 'orange',linestyle='--', label = 'Nearest neighbor expectation')\n",
    "\n",
    "\n",
    "sns.kdeplot(data['delta_errorK2'], label=\"Ripley's K\")\n",
    "plt.plot([k2,k2],[0.0,0.25],color = 'green',linestyle='--', label = \"Ripley's K expectation\")\n",
    "\n",
    "\n",
    "sns.set_style(\"white\")\n",
    "plt.legend(loc =\"best\",fontsize =14)\n",
    "plt.xlabel('Relative porosity error (%)',fontsize =14)\n",
    "plt.ylabel('Density',fontsize =14)\n",
    "plt.ylim(0,0.20);plt.xlim(-5,25)\n",
    "plt.tick_params(axis='both', labelsize=12)\n",
    "plt.grid(False)\n",
    "plt.subplots_adjust(left=0.0, bottom=0.0, right=1.5, top=1.1, wspace=0.2, hspace=0.2)\n",
    "plt.savefig('errors.png', dpi=300, bbox_inches='tight')\n",
    "plt.show()"
   ]
  },
  {
   "cell_type": "markdown",
   "source": [
    "\n"
   ],
   "metadata": {
    "collapsed": false
   }
  }
 ],
 "metadata": {
  "hide_input": false,
  "kernelspec": {
   "display_name": "venv2",
   "language": "python",
   "name": "venv2"
  },
  "language_info": {
   "codemirror_mode": {
    "name": "ipython",
    "version": 3
   },
   "file_extension": ".py",
   "mimetype": "text/x-python",
   "name": "python",
   "nbconvert_exporter": "python",
   "pygments_lexer": "ipython3",
   "version": "3.7.6"
  },
  "toc": {
   "base_numbering": 1,
   "nav_menu": {},
   "number_sections": true,
   "sideBar": true,
   "skip_h1_title": false,
   "title_cell": "Table of Contents",
   "title_sidebar": "Contents",
   "toc_cell": false,
   "toc_position": {},
   "toc_section_display": true,
   "toc_window_display": false
  }
 },
 "nbformat": 4,
 "nbformat_minor": 4
}
